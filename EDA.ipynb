{
 "cells": [
  {
   "cell_type": "code",
   "execution_count": 1,
   "metadata": {},
   "outputs": [],
   "source": [
    "import pandas as pd\n",
    "import numpy as np\n",
    "import matplotlib.pyplot as plt\n",
    "import seaborn as sns"
   ]
  },
  {
   "cell_type": "code",
   "execution_count": 2,
   "metadata": {},
   "outputs": [
    {
     "data": {
      "application/vnd.microsoft.datawrangler.viewer.v0+json": {
       "columns": [
        {
         "name": "index",
         "rawType": "int64",
         "type": "integer"
        },
        {
         "name": "Row ID",
         "rawType": "int64",
         "type": "integer"
        },
        {
         "name": "Order ID",
         "rawType": "object",
         "type": "string"
        },
        {
         "name": "Order Date",
         "rawType": "object",
         "type": "string"
        },
        {
         "name": "Ship Date",
         "rawType": "object",
         "type": "string"
        },
        {
         "name": "Ship Mode",
         "rawType": "object",
         "type": "string"
        },
        {
         "name": "Customer ID",
         "rawType": "object",
         "type": "string"
        },
        {
         "name": "Customer Name",
         "rawType": "object",
         "type": "string"
        },
        {
         "name": "Segment",
         "rawType": "object",
         "type": "string"
        },
        {
         "name": "Country",
         "rawType": "object",
         "type": "string"
        },
        {
         "name": "City",
         "rawType": "object",
         "type": "string"
        },
        {
         "name": "State",
         "rawType": "object",
         "type": "string"
        },
        {
         "name": "Postal Code",
         "rawType": "int64",
         "type": "integer"
        },
        {
         "name": "Region",
         "rawType": "object",
         "type": "string"
        },
        {
         "name": "Product ID",
         "rawType": "object",
         "type": "string"
        },
        {
         "name": "Category",
         "rawType": "object",
         "type": "string"
        },
        {
         "name": "Sub-Category",
         "rawType": "object",
         "type": "string"
        },
        {
         "name": "Product Name",
         "rawType": "object",
         "type": "string"
        },
        {
         "name": "Sales",
         "rawType": "float64",
         "type": "float"
        },
        {
         "name": "Quantity",
         "rawType": "int64",
         "type": "integer"
        },
        {
         "name": "Discount",
         "rawType": "float64",
         "type": "float"
        },
        {
         "name": "Profit",
         "rawType": "float64",
         "type": "float"
        }
       ],
       "conversionMethod": "pd.DataFrame",
       "ref": "52bbfdab-81c1-44b0-9b1b-35f4657da06b",
       "rows": [
        [
         "0",
         "1",
         "CA-2016-152156",
         "11/8/2016",
         "11/11/2016",
         "Second Class",
         "CG-12520",
         "Claire Gute",
         "Consumer",
         "United States",
         "Henderson",
         "Kentucky",
         "42420",
         "South",
         "FUR-BO-10001798",
         "Furniture",
         "Bookcases",
         "Bush Somerset Collection Bookcase",
         "261.96",
         "2",
         "0.0",
         "41.9136"
        ],
        [
         "1",
         "2",
         "CA-2016-152156",
         "11/8/2016",
         "11/11/2016",
         "Second Class",
         "CG-12520",
         "Claire Gute",
         "Consumer",
         "United States",
         "Henderson",
         "Kentucky",
         "42420",
         "South",
         "FUR-CH-10000454",
         "Furniture",
         "Chairs",
         "Hon Deluxe Fabric Upholstered Stacking Chairs, Rounded Back",
         "731.94",
         "3",
         "0.0",
         "219.582"
        ],
        [
         "2",
         "3",
         "CA-2016-138688",
         "6/12/2016",
         "6/16/2016",
         "Second Class",
         "DV-13045",
         "Darrin Van Huff",
         "Corporate",
         "United States",
         "Los Angeles",
         "California",
         "90036",
         "West",
         "OFF-LA-10000240",
         "Office Supplies",
         "Labels",
         "Self-Adhesive Address Labels for Typewriters by Universal",
         "14.62",
         "2",
         "0.0",
         "6.8714"
        ],
        [
         "3",
         "4",
         "US-2015-108966",
         "10/11/2015",
         "10/18/2015",
         "Standard Class",
         "SO-20335",
         "Sean O'Donnell",
         "Consumer",
         "United States",
         "Fort Lauderdale",
         "Florida",
         "33311",
         "South",
         "FUR-TA-10000577",
         "Furniture",
         "Tables",
         "Bretford CR4500 Series Slim Rectangular Table",
         "957.5775",
         "5",
         "0.45",
         "-383.031"
        ],
        [
         "4",
         "5",
         "US-2015-108966",
         "10/11/2015",
         "10/18/2015",
         "Standard Class",
         "SO-20335",
         "Sean O'Donnell",
         "Consumer",
         "United States",
         "Fort Lauderdale",
         "Florida",
         "33311",
         "South",
         "OFF-ST-10000760",
         "Office Supplies",
         "Storage",
         "Eldon Fold 'N Roll Cart System",
         "22.368",
         "2",
         "0.2",
         "2.5164"
        ]
       ],
       "shape": {
        "columns": 21,
        "rows": 5
       }
      },
      "text/html": [
       "<div>\n",
       "<style scoped>\n",
       "    .dataframe tbody tr th:only-of-type {\n",
       "        vertical-align: middle;\n",
       "    }\n",
       "\n",
       "    .dataframe tbody tr th {\n",
       "        vertical-align: top;\n",
       "    }\n",
       "\n",
       "    .dataframe thead th {\n",
       "        text-align: right;\n",
       "    }\n",
       "</style>\n",
       "<table border=\"1\" class=\"dataframe\">\n",
       "  <thead>\n",
       "    <tr style=\"text-align: right;\">\n",
       "      <th></th>\n",
       "      <th>Row ID</th>\n",
       "      <th>Order ID</th>\n",
       "      <th>Order Date</th>\n",
       "      <th>Ship Date</th>\n",
       "      <th>Ship Mode</th>\n",
       "      <th>Customer ID</th>\n",
       "      <th>Customer Name</th>\n",
       "      <th>Segment</th>\n",
       "      <th>Country</th>\n",
       "      <th>City</th>\n",
       "      <th>...</th>\n",
       "      <th>Postal Code</th>\n",
       "      <th>Region</th>\n",
       "      <th>Product ID</th>\n",
       "      <th>Category</th>\n",
       "      <th>Sub-Category</th>\n",
       "      <th>Product Name</th>\n",
       "      <th>Sales</th>\n",
       "      <th>Quantity</th>\n",
       "      <th>Discount</th>\n",
       "      <th>Profit</th>\n",
       "    </tr>\n",
       "  </thead>\n",
       "  <tbody>\n",
       "    <tr>\n",
       "      <th>0</th>\n",
       "      <td>1</td>\n",
       "      <td>CA-2016-152156</td>\n",
       "      <td>11/8/2016</td>\n",
       "      <td>11/11/2016</td>\n",
       "      <td>Second Class</td>\n",
       "      <td>CG-12520</td>\n",
       "      <td>Claire Gute</td>\n",
       "      <td>Consumer</td>\n",
       "      <td>United States</td>\n",
       "      <td>Henderson</td>\n",
       "      <td>...</td>\n",
       "      <td>42420</td>\n",
       "      <td>South</td>\n",
       "      <td>FUR-BO-10001798</td>\n",
       "      <td>Furniture</td>\n",
       "      <td>Bookcases</td>\n",
       "      <td>Bush Somerset Collection Bookcase</td>\n",
       "      <td>261.9600</td>\n",
       "      <td>2</td>\n",
       "      <td>0.00</td>\n",
       "      <td>41.9136</td>\n",
       "    </tr>\n",
       "    <tr>\n",
       "      <th>1</th>\n",
       "      <td>2</td>\n",
       "      <td>CA-2016-152156</td>\n",
       "      <td>11/8/2016</td>\n",
       "      <td>11/11/2016</td>\n",
       "      <td>Second Class</td>\n",
       "      <td>CG-12520</td>\n",
       "      <td>Claire Gute</td>\n",
       "      <td>Consumer</td>\n",
       "      <td>United States</td>\n",
       "      <td>Henderson</td>\n",
       "      <td>...</td>\n",
       "      <td>42420</td>\n",
       "      <td>South</td>\n",
       "      <td>FUR-CH-10000454</td>\n",
       "      <td>Furniture</td>\n",
       "      <td>Chairs</td>\n",
       "      <td>Hon Deluxe Fabric Upholstered Stacking Chairs,...</td>\n",
       "      <td>731.9400</td>\n",
       "      <td>3</td>\n",
       "      <td>0.00</td>\n",
       "      <td>219.5820</td>\n",
       "    </tr>\n",
       "    <tr>\n",
       "      <th>2</th>\n",
       "      <td>3</td>\n",
       "      <td>CA-2016-138688</td>\n",
       "      <td>6/12/2016</td>\n",
       "      <td>6/16/2016</td>\n",
       "      <td>Second Class</td>\n",
       "      <td>DV-13045</td>\n",
       "      <td>Darrin Van Huff</td>\n",
       "      <td>Corporate</td>\n",
       "      <td>United States</td>\n",
       "      <td>Los Angeles</td>\n",
       "      <td>...</td>\n",
       "      <td>90036</td>\n",
       "      <td>West</td>\n",
       "      <td>OFF-LA-10000240</td>\n",
       "      <td>Office Supplies</td>\n",
       "      <td>Labels</td>\n",
       "      <td>Self-Adhesive Address Labels for Typewriters b...</td>\n",
       "      <td>14.6200</td>\n",
       "      <td>2</td>\n",
       "      <td>0.00</td>\n",
       "      <td>6.8714</td>\n",
       "    </tr>\n",
       "    <tr>\n",
       "      <th>3</th>\n",
       "      <td>4</td>\n",
       "      <td>US-2015-108966</td>\n",
       "      <td>10/11/2015</td>\n",
       "      <td>10/18/2015</td>\n",
       "      <td>Standard Class</td>\n",
       "      <td>SO-20335</td>\n",
       "      <td>Sean O'Donnell</td>\n",
       "      <td>Consumer</td>\n",
       "      <td>United States</td>\n",
       "      <td>Fort Lauderdale</td>\n",
       "      <td>...</td>\n",
       "      <td>33311</td>\n",
       "      <td>South</td>\n",
       "      <td>FUR-TA-10000577</td>\n",
       "      <td>Furniture</td>\n",
       "      <td>Tables</td>\n",
       "      <td>Bretford CR4500 Series Slim Rectangular Table</td>\n",
       "      <td>957.5775</td>\n",
       "      <td>5</td>\n",
       "      <td>0.45</td>\n",
       "      <td>-383.0310</td>\n",
       "    </tr>\n",
       "    <tr>\n",
       "      <th>4</th>\n",
       "      <td>5</td>\n",
       "      <td>US-2015-108966</td>\n",
       "      <td>10/11/2015</td>\n",
       "      <td>10/18/2015</td>\n",
       "      <td>Standard Class</td>\n",
       "      <td>SO-20335</td>\n",
       "      <td>Sean O'Donnell</td>\n",
       "      <td>Consumer</td>\n",
       "      <td>United States</td>\n",
       "      <td>Fort Lauderdale</td>\n",
       "      <td>...</td>\n",
       "      <td>33311</td>\n",
       "      <td>South</td>\n",
       "      <td>OFF-ST-10000760</td>\n",
       "      <td>Office Supplies</td>\n",
       "      <td>Storage</td>\n",
       "      <td>Eldon Fold 'N Roll Cart System</td>\n",
       "      <td>22.3680</td>\n",
       "      <td>2</td>\n",
       "      <td>0.20</td>\n",
       "      <td>2.5164</td>\n",
       "    </tr>\n",
       "  </tbody>\n",
       "</table>\n",
       "<p>5 rows × 21 columns</p>\n",
       "</div>"
      ],
      "text/plain": [
       "   Row ID        Order ID  Order Date   Ship Date       Ship Mode Customer ID  \\\n",
       "0       1  CA-2016-152156   11/8/2016  11/11/2016    Second Class    CG-12520   \n",
       "1       2  CA-2016-152156   11/8/2016  11/11/2016    Second Class    CG-12520   \n",
       "2       3  CA-2016-138688   6/12/2016   6/16/2016    Second Class    DV-13045   \n",
       "3       4  US-2015-108966  10/11/2015  10/18/2015  Standard Class    SO-20335   \n",
       "4       5  US-2015-108966  10/11/2015  10/18/2015  Standard Class    SO-20335   \n",
       "\n",
       "     Customer Name    Segment        Country             City  ...  \\\n",
       "0      Claire Gute   Consumer  United States        Henderson  ...   \n",
       "1      Claire Gute   Consumer  United States        Henderson  ...   \n",
       "2  Darrin Van Huff  Corporate  United States      Los Angeles  ...   \n",
       "3   Sean O'Donnell   Consumer  United States  Fort Lauderdale  ...   \n",
       "4   Sean O'Donnell   Consumer  United States  Fort Lauderdale  ...   \n",
       "\n",
       "  Postal Code  Region       Product ID         Category Sub-Category  \\\n",
       "0       42420   South  FUR-BO-10001798        Furniture    Bookcases   \n",
       "1       42420   South  FUR-CH-10000454        Furniture       Chairs   \n",
       "2       90036    West  OFF-LA-10000240  Office Supplies       Labels   \n",
       "3       33311   South  FUR-TA-10000577        Furniture       Tables   \n",
       "4       33311   South  OFF-ST-10000760  Office Supplies      Storage   \n",
       "\n",
       "                                        Product Name     Sales  Quantity  \\\n",
       "0                  Bush Somerset Collection Bookcase  261.9600         2   \n",
       "1  Hon Deluxe Fabric Upholstered Stacking Chairs,...  731.9400         3   \n",
       "2  Self-Adhesive Address Labels for Typewriters b...   14.6200         2   \n",
       "3      Bretford CR4500 Series Slim Rectangular Table  957.5775         5   \n",
       "4                     Eldon Fold 'N Roll Cart System   22.3680         2   \n",
       "\n",
       "   Discount    Profit  \n",
       "0      0.00   41.9136  \n",
       "1      0.00  219.5820  \n",
       "2      0.00    6.8714  \n",
       "3      0.45 -383.0310  \n",
       "4      0.20    2.5164  \n",
       "\n",
       "[5 rows x 21 columns]"
      ]
     },
     "execution_count": 2,
     "metadata": {},
     "output_type": "execute_result"
    }
   ],
   "source": [
    "df = pd.read_csv(\"data/customers.csv\", encoding=\"LATIN1\")\n",
    "df.head()"
   ]
  },
  {
   "cell_type": "code",
   "execution_count": 3,
   "metadata": {},
   "outputs": [
    {
     "name": "stdout",
     "output_type": "stream",
     "text": [
      "<class 'pandas.core.frame.DataFrame'>\n",
      "RangeIndex: 9994 entries, 0 to 9993\n",
      "Data columns (total 21 columns):\n",
      " #   Column         Non-Null Count  Dtype  \n",
      "---  ------         --------------  -----  \n",
      " 0   Row ID         9994 non-null   int64  \n",
      " 1   Order ID       9994 non-null   object \n",
      " 2   Order Date     9994 non-null   object \n",
      " 3   Ship Date      9994 non-null   object \n",
      " 4   Ship Mode      9994 non-null   object \n",
      " 5   Customer ID    9994 non-null   object \n",
      " 6   Customer Name  9994 non-null   object \n",
      " 7   Segment        9994 non-null   object \n",
      " 8   Country        9994 non-null   object \n",
      " 9   City           9994 non-null   object \n",
      " 10  State          9994 non-null   object \n",
      " 11  Postal Code    9994 non-null   int64  \n",
      " 12  Region         9994 non-null   object \n",
      " 13  Product ID     9994 non-null   object \n",
      " 14  Category       9994 non-null   object \n",
      " 15  Sub-Category   9994 non-null   object \n",
      " 16  Product Name   9994 non-null   object \n",
      " 17  Sales          9994 non-null   float64\n",
      " 18  Quantity       9994 non-null   int64  \n",
      " 19  Discount       9994 non-null   float64\n",
      " 20  Profit         9994 non-null   float64\n",
      "dtypes: float64(3), int64(3), object(15)\n",
      "memory usage: 1.6+ MB\n"
     ]
    }
   ],
   "source": [
    "df.info()"
   ]
  },
  {
   "cell_type": "code",
   "execution_count": 4,
   "metadata": {},
   "outputs": [
    {
     "name": "stdout",
     "output_type": "stream",
     "text": [
      "<class 'pandas.core.frame.DataFrame'>\n",
      "RangeIndex: 9994 entries, 0 to 9993\n",
      "Data columns (total 21 columns):\n",
      " #   Column         Non-Null Count  Dtype         \n",
      "---  ------         --------------  -----         \n",
      " 0   Row ID         9994 non-null   int64         \n",
      " 1   Order ID       9994 non-null   object        \n",
      " 2   Order Date     9994 non-null   datetime64[ns]\n",
      " 3   Ship Date      9994 non-null   datetime64[ns]\n",
      " 4   Ship Mode      9994 non-null   object        \n",
      " 5   Customer ID    9994 non-null   object        \n",
      " 6   Customer Name  9994 non-null   object        \n",
      " 7   Segment        9994 non-null   object        \n",
      " 8   Country        9994 non-null   object        \n",
      " 9   City           9994 non-null   object        \n",
      " 10  State          9994 non-null   object        \n",
      " 11  Postal Code    9994 non-null   int64         \n",
      " 12  Region         9994 non-null   object        \n",
      " 13  Product ID     9994 non-null   object        \n",
      " 14  Category       9994 non-null   object        \n",
      " 15  Sub-Category   9994 non-null   object        \n",
      " 16  Product Name   9994 non-null   object        \n",
      " 17  Sales          9994 non-null   float64       \n",
      " 18  Quantity       9994 non-null   int64         \n",
      " 19  Discount       9994 non-null   float64       \n",
      " 20  Profit         9994 non-null   float64       \n",
      "dtypes: datetime64[ns](2), float64(3), int64(3), object(13)\n",
      "memory usage: 1.6+ MB\n"
     ]
    }
   ],
   "source": [
    "# Turn date objects to datetimes format\n",
    "df['Order Date'] = pd.to_datetime(df['Order Date'])\n",
    "df['Ship Date'] = pd.to_datetime(df['Ship Date'])\n",
    "df.info()"
   ]
  },
  {
   "cell_type": "code",
   "execution_count": 5,
   "metadata": {},
   "outputs": [
    {
     "data": {
      "text/plain": [
       "Category\n",
       "Technology         836154.0330\n",
       "Furniture          741999.7953\n",
       "Office Supplies    719047.0320\n",
       "Name: Sales, dtype: float64"
      ]
     },
     "execution_count": 5,
     "metadata": {},
     "output_type": "execute_result"
    }
   ],
   "source": [
    "#Which product contributes most to the total revenue?\n",
    "most_sales_category = df.groupby('Category')['Sales'].sum().sort_values(ascending=False)\n",
    "most_sales_category"
   ]
  },
  {
   "cell_type": "code",
   "execution_count": 7,
   "metadata": {},
   "outputs": [
    {
     "data": {
      "text/plain": [
       "Category\n",
       "Technology         145454.9481\n",
       "Office Supplies    122490.8008\n",
       "Furniture           18451.2728\n",
       "Name: Profit, dtype: float64"
      ]
     },
     "execution_count": 7,
     "metadata": {},
     "output_type": "execute_result"
    }
   ],
   "source": [
    "most_profit_category = df.groupby('Category')['Profit'].sum().sort_values(ascending=False)\n",
    "most_profit_category"
   ]
  },
  {
   "cell_type": "code",
   "execution_count": 8,
   "metadata": {},
   "outputs": [
    {
     "data": {
      "text/plain": [
       "Category\n",
       "Furniture          0.173923\n",
       "Office Supplies    0.157285\n",
       "Technology         0.132323\n",
       "Name: Discount, dtype: float64"
      ]
     },
     "execution_count": 8,
     "metadata": {},
     "output_type": "execute_result"
    }
   ],
   "source": [
    "#Why is the furnitures profit so low?\n",
    "df.groupby(\"Category\")['Discount'].mean().sort_values(ascending=False)"
   ]
  },
  {
   "cell_type": "code",
   "execution_count": 22,
   "metadata": {},
   "outputs": [
    {
     "data": {
      "text/plain": [
       "0       16.00\n",
       "1       30.00\n",
       "2       47.00\n",
       "3      -40.00\n",
       "4       11.25\n",
       "        ...  \n",
       "9989    16.25\n",
       "9990    17.00\n",
       "9991     7.50\n",
       "9992    45.00\n",
       "9993    30.00\n",
       "Name: Profit Margin , Length: 9994, dtype: float64"
      ]
     },
     "execution_count": 22,
     "metadata": {},
     "output_type": "execute_result"
    }
   ],
   "source": [
    "df['Profit Margin '] = df['Profit'] / df['Sales'] * 100\n",
    "df['Profit Margin '] "
   ]
  },
  {
   "cell_type": "code",
   "execution_count": 18,
   "metadata": {},
   "outputs": [
    {
     "data": {
      "application/vnd.microsoft.datawrangler.viewer.v0+json": {
       "columns": [
        {
         "name": "index",
         "rawType": "int64",
         "type": "integer"
        },
        {
         "name": "Cost Per Unit",
         "rawType": "float64",
         "type": "float"
        },
        {
         "name": "SellPrice Per Unit",
         "rawType": "float64",
         "type": "float"
        }
       ],
       "conversionMethod": "pd.DataFrame",
       "ref": "ce5722e7-b52e-432a-ae99-9f93072a4914",
       "rows": [
        [
         "0",
         "110.02319999999999",
         "130.98"
        ],
        [
         "1",
         "170.78600000000003",
         "243.98000000000002"
        ],
        [
         "2",
         "3.8742999999999994",
         "7.31"
        ],
        [
         "3",
         "268.12170000000003",
         "191.5155"
        ],
        [
         "4",
         "9.925799999999999",
         "11.184"
        ],
        [
         "5",
         "4.955800000000001",
         "6.9799999999999995"
        ],
        [
         "6",
         "1.3286",
         "1.82"
        ],
        [
         "7",
         "136.0728",
         "151.192"
        ],
        [
         "8",
         "4.240500000000001",
         "6.168"
        ],
        [
         "9",
         "16.086000000000002",
         "22.98"
        ],
        [
         "10",
         "180.09720000000002",
         "189.576"
        ],
        [
         "11",
         "210.7668",
         "227.856"
        ],
        [
         "12",
         "3.3695999999999997",
         "5.184"
        ],
        [
         "13",
         "91.7946",
         "135.992"
        ],
        [
         "14",
         "38.5336",
         "13.762"
        ],
        [
         "15",
         "2.1199999999999997",
         "0.848"
        ],
        [
         "16",
         "108.7604",
         "110.98"
        ],
        [
         "17",
         "22.755",
         "27.75"
        ],
        [
         "18",
         "3.0388",
         "4.28"
        ],
        [
         "19",
         "65.823",
         "71.16"
        ],
        [
         "20",
         "3.8339999999999996",
         "5.68"
        ],
        [
         "21",
         "2.0572000000000004",
         "2.7800000000000002"
        ],
        [
         "22",
         "6.3788",
         "8.620000000000001"
        ],
        [
         "23",
         "36.1958",
         "35.686"
        ],
        [
         "24",
         "268.12170000000003",
         "348.21000000000004"
        ],
        [
         "25",
         "3.7127999999999997",
         "5.824"
        ],
        [
         "26",
         "26.265299999999996",
         "30.189999999999998"
        ],
        [
         "27",
         "678.3546",
         "440.48999999999995"
        ],
        [
         "28",
         "8.3356",
         "4.809"
        ],
        [
         "29",
         "36.225",
         "41.4"
        ],
        [
         "30",
         "1.0812",
         "1.632"
        ],
        [
         "31",
         "12.7658",
         "14.384"
        ],
        [
         "32",
         "2.0955",
         "1.143"
        ],
        [
         "33",
         "6.107",
         "7.88"
        ],
        [
         "34",
         "6.508400000000001",
         "9.824"
        ],
        [
         "35",
         "139.15290000000002",
         "156.792"
        ],
        [
         "36",
         "67.7766",
         "38.184"
        ],
        [
         "37",
         "8.657000000000002",
         "12.592"
        ],
        [
         "38",
         "193.12519999999998",
         "177.4664"
        ],
        [
         "39",
         "75.735",
         "70.68599999999999"
        ],
        [
         "40",
         "82.3529",
         "92.792"
        ],
        [
         "41",
         "32.6529",
         "36.792"
        ],
        [
         "42",
         "36.992999999999995",
         "38.94"
        ],
        [
         "43",
         "43.0272",
         "47.808"
        ],
        [
         "44",
         "13.104299999999999",
         "22.99"
        ],
        [
         "45",
         "4.6269",
         "8.73"
        ],
        [
         "46",
         "50.870400000000004",
         "52.99"
        ],
        [
         "47",
         "13.35",
         "15.0"
        ],
        [
         "48",
         "7.848000000000001",
         "10.9"
        ],
        [
         "49",
         "3.3760999999999997",
         "6.37"
        ]
       ],
       "shape": {
        "columns": 2,
        "rows": 9994
       }
      },
      "text/html": [
       "<div>\n",
       "<style scoped>\n",
       "    .dataframe tbody tr th:only-of-type {\n",
       "        vertical-align: middle;\n",
       "    }\n",
       "\n",
       "    .dataframe tbody tr th {\n",
       "        vertical-align: top;\n",
       "    }\n",
       "\n",
       "    .dataframe thead th {\n",
       "        text-align: right;\n",
       "    }\n",
       "</style>\n",
       "<table border=\"1\" class=\"dataframe\">\n",
       "  <thead>\n",
       "    <tr style=\"text-align: right;\">\n",
       "      <th></th>\n",
       "      <th>Cost Per Unit</th>\n",
       "      <th>SellPrice Per Unit</th>\n",
       "    </tr>\n",
       "  </thead>\n",
       "  <tbody>\n",
       "    <tr>\n",
       "      <th>0</th>\n",
       "      <td>110.0232</td>\n",
       "      <td>130.9800</td>\n",
       "    </tr>\n",
       "    <tr>\n",
       "      <th>1</th>\n",
       "      <td>170.7860</td>\n",
       "      <td>243.9800</td>\n",
       "    </tr>\n",
       "    <tr>\n",
       "      <th>2</th>\n",
       "      <td>3.8743</td>\n",
       "      <td>7.3100</td>\n",
       "    </tr>\n",
       "    <tr>\n",
       "      <th>3</th>\n",
       "      <td>268.1217</td>\n",
       "      <td>191.5155</td>\n",
       "    </tr>\n",
       "    <tr>\n",
       "      <th>4</th>\n",
       "      <td>9.9258</td>\n",
       "      <td>11.1840</td>\n",
       "    </tr>\n",
       "    <tr>\n",
       "      <th>...</th>\n",
       "      <td>...</td>\n",
       "      <td>...</td>\n",
       "    </tr>\n",
       "    <tr>\n",
       "      <th>9989</th>\n",
       "      <td>7.0484</td>\n",
       "      <td>8.4160</td>\n",
       "    </tr>\n",
       "    <tr>\n",
       "      <th>9990</th>\n",
       "      <td>38.1634</td>\n",
       "      <td>45.9800</td>\n",
       "    </tr>\n",
       "    <tr>\n",
       "      <th>9991</th>\n",
       "      <td>119.5914</td>\n",
       "      <td>129.2880</td>\n",
       "    </tr>\n",
       "    <tr>\n",
       "      <th>9992</th>\n",
       "      <td>4.0700</td>\n",
       "      <td>7.4000</td>\n",
       "    </tr>\n",
       "    <tr>\n",
       "      <th>9993</th>\n",
       "      <td>85.1060</td>\n",
       "      <td>121.5800</td>\n",
       "    </tr>\n",
       "  </tbody>\n",
       "</table>\n",
       "<p>9994 rows × 2 columns</p>\n",
       "</div>"
      ],
      "text/plain": [
       "      Cost Per Unit  SellPrice Per Unit\n",
       "0          110.0232            130.9800\n",
       "1          170.7860            243.9800\n",
       "2            3.8743              7.3100\n",
       "3          268.1217            191.5155\n",
       "4            9.9258             11.1840\n",
       "...             ...                 ...\n",
       "9989         7.0484              8.4160\n",
       "9990        38.1634             45.9800\n",
       "9991       119.5914            129.2880\n",
       "9992         4.0700              7.4000\n",
       "9993        85.1060            121.5800\n",
       "\n",
       "[9994 rows x 2 columns]"
      ]
     },
     "execution_count": 18,
     "metadata": {},
     "output_type": "execute_result"
    }
   ],
   "source": [
    "# Lets create a new columns cost per unit and selling per unit\n",
    "\n",
    "df['Cost Per Unit'] = (df['Sales'] - df['Profit']) / df['Quantity']\n",
    "df['SellPrice Per Unit'] = df['Sales'] / df['Quantity']\n",
    "df[['Cost Per Unit', 'SellPrice Per Unit']]"
   ]
  },
  {
   "cell_type": "code",
   "execution_count": 19,
   "metadata": {},
   "outputs": [
    {
     "data": {
      "application/vnd.microsoft.datawrangler.viewer.v0+json": {
       "columns": [
        {
         "name": "index",
         "rawType": "int64",
         "type": "integer"
        },
        {
         "name": "Product Name",
         "rawType": "object",
         "type": "string"
        },
        {
         "name": "Sales",
         "rawType": "float64",
         "type": "float"
        },
        {
         "name": "Quantity",
         "rawType": "int64",
         "type": "integer"
        },
        {
         "name": "SellPrice Per Unit",
         "rawType": "float64",
         "type": "float"
        },
        {
         "name": "Cost Per Unit",
         "rawType": "float64",
         "type": "float"
        },
        {
         "name": "Discount",
         "rawType": "float64",
         "type": "float"
        },
        {
         "name": "Profit",
         "rawType": "float64",
         "type": "float"
        }
       ],
       "conversionMethod": "pd.DataFrame",
       "ref": "1adc1f34-054e-47e3-aede-646a3d0bb012",
       "rows": [
        [
         "0",
         "Bush Somerset Collection Bookcase",
         "261.96",
         "2",
         "130.98",
         "110.02",
         "0.0",
         "41.9136"
        ],
        [
         "1",
         "Hon Deluxe Fabric Upholstered Stacking Chairs, Rounded Back",
         "731.94",
         "3",
         "243.98",
         "170.79",
         "0.0",
         "219.582"
        ]
       ],
       "shape": {
        "columns": 7,
        "rows": 2
       }
      },
      "text/html": [
       "<div>\n",
       "<style scoped>\n",
       "    .dataframe tbody tr th:only-of-type {\n",
       "        vertical-align: middle;\n",
       "    }\n",
       "\n",
       "    .dataframe tbody tr th {\n",
       "        vertical-align: top;\n",
       "    }\n",
       "\n",
       "    .dataframe thead th {\n",
       "        text-align: right;\n",
       "    }\n",
       "</style>\n",
       "<table border=\"1\" class=\"dataframe\">\n",
       "  <thead>\n",
       "    <tr style=\"text-align: right;\">\n",
       "      <th></th>\n",
       "      <th>Product Name</th>\n",
       "      <th>Sales</th>\n",
       "      <th>Quantity</th>\n",
       "      <th>SellPrice Per Unit</th>\n",
       "      <th>Cost Per Unit</th>\n",
       "      <th>Discount</th>\n",
       "      <th>Profit</th>\n",
       "    </tr>\n",
       "  </thead>\n",
       "  <tbody>\n",
       "    <tr>\n",
       "      <th>0</th>\n",
       "      <td>Bush Somerset Collection Bookcase</td>\n",
       "      <td>261.96</td>\n",
       "      <td>2</td>\n",
       "      <td>130.98</td>\n",
       "      <td>110.02</td>\n",
       "      <td>0.0</td>\n",
       "      <td>41.9136</td>\n",
       "    </tr>\n",
       "    <tr>\n",
       "      <th>1</th>\n",
       "      <td>Hon Deluxe Fabric Upholstered Stacking Chairs,...</td>\n",
       "      <td>731.94</td>\n",
       "      <td>3</td>\n",
       "      <td>243.98</td>\n",
       "      <td>170.79</td>\n",
       "      <td>0.0</td>\n",
       "      <td>219.5820</td>\n",
       "    </tr>\n",
       "  </tbody>\n",
       "</table>\n",
       "</div>"
      ],
      "text/plain": [
       "                                        Product Name   Sales  Quantity  \\\n",
       "0                  Bush Somerset Collection Bookcase  261.96         2   \n",
       "1  Hon Deluxe Fabric Upholstered Stacking Chairs,...  731.94         3   \n",
       "\n",
       "   SellPrice Per Unit  Cost Per Unit  Discount    Profit  \n",
       "0              130.98         110.02       0.0   41.9136  \n",
       "1              243.98         170.79       0.0  219.5820  "
      ]
     },
     "execution_count": 19,
     "metadata": {},
     "output_type": "execute_result"
    }
   ],
   "source": [
    "df['Cost Per Unit'] = df['Cost Per Unit'].round(2)\n",
    "df['SellPrice Per Unit'] =df['SellPrice Per Unit'].round(2)\n",
    "df[['Product Name', 'Sales','Quantity', 'SellPrice Per Unit', 'Cost Per Unit', 'Discount','Profit']].head(2)"
   ]
  },
  {
   "cell_type": "code",
   "execution_count": 23,
   "metadata": {},
   "outputs": [
    {
     "data": {
      "text/plain": [
       "Category\n",
       "Technology         0.156138\n",
       "Office Supplies    0.138030\n",
       "Furniture          0.038784\n",
       "Name: Profit Margin, dtype: float64"
      ]
     },
     "execution_count": 23,
     "metadata": {},
     "output_type": "execute_result"
    }
   ],
   "source": [
    "df.groupby(\"Category\")['Profit Margin'].mean().sort_values(ascending=False)"
   ]
  },
  {
   "cell_type": "code",
   "execution_count": 24,
   "metadata": {},
   "outputs": [
    {
     "data": {
      "text/plain": [
       "Sub-Category\n",
       "Furnishings    0.137066\n",
       "Chairs         0.043900\n",
       "Bookcases     -0.126640\n",
       "Tables        -0.147727\n",
       "Name: Profit Margin, dtype: float64"
      ]
     },
     "execution_count": 24,
     "metadata": {},
     "output_type": "execute_result"
    }
   ],
   "source": [
    "df[df['Category'] == \"Furniture\"].groupby(\"Sub-Category\")['Profit Margin'].mean().sort_values(ascending=False)"
   ]
  },
  {
   "cell_type": "code",
   "execution_count": 25,
   "metadata": {},
   "outputs": [
    {
     "data": {
      "text/plain": [
       "Sub-Category\n",
       "Chairs        -27.431151\n",
       "Bookcases     -44.672906\n",
       "Tables        -63.118690\n",
       "Furnishings   -97.637500\n",
       "Name: Profit Margin, dtype: float64"
      ]
     },
     "execution_count": 25,
     "metadata": {},
     "output_type": "execute_result"
    }
   ],
   "source": [
    "df[(df['Category'] == 'Furniture') & (df['Profit'] < 0)].groupby('Sub-Category')['Profit Margin'].sum().sort_values(ascending=False)"
   ]
  },
  {
   "cell_type": "code",
   "execution_count": 26,
   "metadata": {},
   "outputs": [
    {
     "data": {
      "text/plain": [
       "Product Name\n",
       "Hon Deluxe Fabric Upholstered Stacking Chairs, Rounded Back                                   1927.4420\n",
       "Global Deluxe High-Back Manager's Chair                                                       1558.5910\n",
       "Hon Pagoda Stacking Chairs                                                                    1540.7040\n",
       "Hon 4070 Series Pagoda Armless Upholstered Stacking Chairs                                    1388.6348\n",
       "Office Star - Professional Matrix Back Chair with 2-to-1 Synchro Tilt and Mesh Fabric Seat    1305.6456\n",
       "Hon Olson Stacker Chairs                                                                      1292.1264\n",
       "GE 48\" Fluorescent Tube, Cool White Energy Saver, 34 Watts, 30/Box                            1260.2210\n",
       "Hon GuestStacker Chair                                                                        1233.0848\n",
       "SAFCO Arco Folding Chair                                                                      1179.3740\n",
       "Hon 4070 Series Pagoda Round Back Stacking Chairs                                             1052.8144\n",
       "Name: Profit, dtype: float64"
      ]
     },
     "execution_count": 26,
     "metadata": {},
     "output_type": "execute_result"
    }
   ],
   "source": [
    "df[df['Category']== \"Furniture\"].groupby(\"Product Name\")['Profit'].sum().sort_values(ascending=False).head(10)"
   ]
  },
  {
   "cell_type": "code",
   "execution_count": 27,
   "metadata": {},
   "outputs": [
    {
     "data": {
      "text/plain": [
       "Product Name\n",
       "Bush Westfield Collection Bookcases, Dark Cherry Finish, Fully Assembled    0.700000\n",
       "Eldon Executive Woodline II Cherry Finish Desk Accessories                  0.600000\n",
       "Atlantic Metals Mobile 2-Shelf Bookcases, Custom Colors                     0.510000\n",
       "BoxOffice By Design Rectangular and Half-Moon Meeting Room Tables           0.483333\n",
       "Bevis Rectangular Conference Tables                                         0.475000\n",
       "                                                                              ...   \n",
       "Tenex Chairmats For Use With Carpeted Floors                                0.000000\n",
       "Eldon Expressions Mahogany Wood Desk Collection                             0.000000\n",
       "Eldon Econocleat Chair Mats for Low Pile Carpets                            0.000000\n",
       "Westinghouse Floor Lamp with Metal Mesh Shade, Black                        0.000000\n",
       "Westinghouse Mesh Shade Clip-On Gooseneck Lamp, Black                       0.000000\n",
       "Name: Discount, Length: 380, dtype: float64"
      ]
     },
     "execution_count": 27,
     "metadata": {},
     "output_type": "execute_result"
    }
   ],
   "source": [
    "df[df['Category'] == 'Furniture'].groupby('Product Name')['Discount'].mean().sort_values(ascending=False)"
   ]
  },
  {
   "cell_type": "code",
   "execution_count": 28,
   "metadata": {},
   "outputs": [
    {
     "data": {
      "text/plain": [
       "Product Name\n",
       "Chromcraft Bull-Nose Wood Oval Conference Tables & Bases                       -2876.1156\n",
       "Bush Advantage Collection Racetrack Conference Table                           -1934.3976\n",
       "Balt Solid Wood Round Tables                                                   -1201.0581\n",
       "BoxOffice By Design Rectangular and Half-Moon Meeting Room Tables              -1148.4375\n",
       "Riverside Furniture Oval Coffee Table, Oval End Table, End Table with Drawer   -1147.4000\n",
       "Hon 2090 Pillow Soft Series Mid Back Swivel/Tilt Chairs                       -989.0496\n",
       "O'Sullivan 4-Shelf Bookcase in Odessa Pine                                      -975.0988\n",
       "Bretford Just In Time Height-Adjustable Multi-Task Work Tables                -964.1940\n",
       "Bevis Oval Conference Table, Walnut                                             -856.0144\n",
       "BPI Conference Tables                                                           -795.9725\n",
       "Name: Profit, dtype: float64"
      ]
     },
     "execution_count": 28,
     "metadata": {},
     "output_type": "execute_result"
    }
   ],
   "source": [
    "loss_products = df[df['Category']=='Furniture'].groupby(\"Product Name\")[\"Profit\"].sum().sort_values(ascending=False) \n",
    "loss_products = loss_products[loss_products < 0].sort_values()\n",
    "loss_products.head(10)"
   ]
  },
  {
   "cell_type": "code",
   "execution_count": 29,
   "metadata": {},
   "outputs": [
    {
     "data": {
      "text/plain": [
       "Product Name\n",
       "Eldon 100 Class Desk Accessories                                               36.3960\n",
       "Stacking Tray, Side-Loading, Legal, Smoke                                      46.5920\n",
       "Anderson Hickey Conga Table Tops & Accessories                                 51.7820\n",
       "Executive Impressions 16-1/2\" Circular Wall Clock                              58.7840\n",
       "Bush Westfield Collection Bookcases, Dark Cherry Finish, Fully Assembled       90.8820\n",
       "                                                                               ...    \n",
       "Chromcraft Round Conference Tables                                           8209.0590\n",
       "Bush Advantage Collection Racetrack Conference Table                         9544.7250\n",
       "Chromcraft Bull-Nose Wood Oval Conference Tables & Bases                     9917.6400\n",
       "Bretford Rectangular Conference Table Tops                                  12995.2915\n",
       "Riverside Palais Royal Lawyers Bookcase, Royale Cherry Finish               15610.9656\n",
       "Name: Sales, Length: 123, dtype: float64"
      ]
     },
     "execution_count": 29,
     "metadata": {},
     "output_type": "execute_result"
    }
   ],
   "source": [
    "df[df['Product Name'].isin(loss_products.index)].groupby(\"Product Name\")['Sales'].sum().sort_values()"
   ]
  },
  {
   "cell_type": "code",
   "execution_count": 30,
   "metadata": {},
   "outputs": [
    {
     "ename": "ValueError",
     "evalue": "could not convert string to float: 'CA-2016-152156'",
     "output_type": "error",
     "traceback": [
      "\u001b[31m---------------------------------------------------------------------------\u001b[39m",
      "\u001b[31mValueError\u001b[39m                                Traceback (most recent call last)",
      "\u001b[36mCell\u001b[39m\u001b[36m \u001b[39m\u001b[32mIn[30]\u001b[39m\u001b[32m, line 1\u001b[39m\n\u001b[32m----> \u001b[39m\u001b[32m1\u001b[39m correlation_matrix = \u001b[43mdf\u001b[49m\u001b[43m.\u001b[49m\u001b[43mcorr\u001b[49m\u001b[43m(\u001b[49m\u001b[43m)\u001b[49m\n\u001b[32m      2\u001b[39m correlation_matrix[\u001b[33m'\u001b[39m\u001b[33mProfit\u001b[39m\u001b[33m'\u001b[39m].sort_values(ascending=\u001b[38;5;28;01mFalse\u001b[39;00m)\n",
      "\u001b[36mFile \u001b[39m\u001b[32md:\\PythonProject\\DataAnalysis\\Super-Store-Profit-Sales-Analysis\\venv\\Lib\\site-packages\\pandas\\core\\frame.py:11049\u001b[39m, in \u001b[36mDataFrame.corr\u001b[39m\u001b[34m(self, method, min_periods, numeric_only)\u001b[39m\n\u001b[32m  11047\u001b[39m cols = data.columns\n\u001b[32m  11048\u001b[39m idx = cols.copy()\n\u001b[32m> \u001b[39m\u001b[32m11049\u001b[39m mat = \u001b[43mdata\u001b[49m\u001b[43m.\u001b[49m\u001b[43mto_numpy\u001b[49m\u001b[43m(\u001b[49m\u001b[43mdtype\u001b[49m\u001b[43m=\u001b[49m\u001b[38;5;28;43mfloat\u001b[39;49m\u001b[43m,\u001b[49m\u001b[43m \u001b[49m\u001b[43mna_value\u001b[49m\u001b[43m=\u001b[49m\u001b[43mnp\u001b[49m\u001b[43m.\u001b[49m\u001b[43mnan\u001b[49m\u001b[43m,\u001b[49m\u001b[43m \u001b[49m\u001b[43mcopy\u001b[49m\u001b[43m=\u001b[49m\u001b[38;5;28;43;01mFalse\u001b[39;49;00m\u001b[43m)\u001b[49m\n\u001b[32m  11051\u001b[39m \u001b[38;5;28;01mif\u001b[39;00m method == \u001b[33m\"\u001b[39m\u001b[33mpearson\u001b[39m\u001b[33m\"\u001b[39m:\n\u001b[32m  11052\u001b[39m     correl = libalgos.nancorr(mat, minp=min_periods)\n",
      "\u001b[36mFile \u001b[39m\u001b[32md:\\PythonProject\\DataAnalysis\\Super-Store-Profit-Sales-Analysis\\venv\\Lib\\site-packages\\pandas\\core\\frame.py:1993\u001b[39m, in \u001b[36mDataFrame.to_numpy\u001b[39m\u001b[34m(self, dtype, copy, na_value)\u001b[39m\n\u001b[32m   1991\u001b[39m \u001b[38;5;28;01mif\u001b[39;00m dtype \u001b[38;5;129;01mis\u001b[39;00m \u001b[38;5;129;01mnot\u001b[39;00m \u001b[38;5;28;01mNone\u001b[39;00m:\n\u001b[32m   1992\u001b[39m     dtype = np.dtype(dtype)\n\u001b[32m-> \u001b[39m\u001b[32m1993\u001b[39m result = \u001b[38;5;28;43mself\u001b[39;49m\u001b[43m.\u001b[49m\u001b[43m_mgr\u001b[49m\u001b[43m.\u001b[49m\u001b[43mas_array\u001b[49m\u001b[43m(\u001b[49m\u001b[43mdtype\u001b[49m\u001b[43m=\u001b[49m\u001b[43mdtype\u001b[49m\u001b[43m,\u001b[49m\u001b[43m \u001b[49m\u001b[43mcopy\u001b[49m\u001b[43m=\u001b[49m\u001b[43mcopy\u001b[49m\u001b[43m,\u001b[49m\u001b[43m \u001b[49m\u001b[43mna_value\u001b[49m\u001b[43m=\u001b[49m\u001b[43mna_value\u001b[49m\u001b[43m)\u001b[49m\n\u001b[32m   1994\u001b[39m \u001b[38;5;28;01mif\u001b[39;00m result.dtype \u001b[38;5;129;01mis\u001b[39;00m \u001b[38;5;129;01mnot\u001b[39;00m dtype:\n\u001b[32m   1995\u001b[39m     result = np.asarray(result, dtype=dtype)\n",
      "\u001b[36mFile \u001b[39m\u001b[32md:\\PythonProject\\DataAnalysis\\Super-Store-Profit-Sales-Analysis\\venv\\Lib\\site-packages\\pandas\\core\\internals\\managers.py:1694\u001b[39m, in \u001b[36mBlockManager.as_array\u001b[39m\u001b[34m(self, dtype, copy, na_value)\u001b[39m\n\u001b[32m   1692\u001b[39m         arr.flags.writeable = \u001b[38;5;28;01mFalse\u001b[39;00m\n\u001b[32m   1693\u001b[39m \u001b[38;5;28;01melse\u001b[39;00m:\n\u001b[32m-> \u001b[39m\u001b[32m1694\u001b[39m     arr = \u001b[38;5;28;43mself\u001b[39;49m\u001b[43m.\u001b[49m\u001b[43m_interleave\u001b[49m\u001b[43m(\u001b[49m\u001b[43mdtype\u001b[49m\u001b[43m=\u001b[49m\u001b[43mdtype\u001b[49m\u001b[43m,\u001b[49m\u001b[43m \u001b[49m\u001b[43mna_value\u001b[49m\u001b[43m=\u001b[49m\u001b[43mna_value\u001b[49m\u001b[43m)\u001b[49m\n\u001b[32m   1695\u001b[39m     \u001b[38;5;66;03m# The underlying data was copied within _interleave, so no need\u001b[39;00m\n\u001b[32m   1696\u001b[39m     \u001b[38;5;66;03m# to further copy if copy=True or setting na_value\u001b[39;00m\n\u001b[32m   1698\u001b[39m \u001b[38;5;28;01mif\u001b[39;00m na_value \u001b[38;5;129;01mis\u001b[39;00m lib.no_default:\n",
      "\u001b[36mFile \u001b[39m\u001b[32md:\\PythonProject\\DataAnalysis\\Super-Store-Profit-Sales-Analysis\\venv\\Lib\\site-packages\\pandas\\core\\internals\\managers.py:1753\u001b[39m, in \u001b[36mBlockManager._interleave\u001b[39m\u001b[34m(self, dtype, na_value)\u001b[39m\n\u001b[32m   1751\u001b[39m     \u001b[38;5;28;01melse\u001b[39;00m:\n\u001b[32m   1752\u001b[39m         arr = blk.get_values(dtype)\n\u001b[32m-> \u001b[39m\u001b[32m1753\u001b[39m     \u001b[43mresult\u001b[49m\u001b[43m[\u001b[49m\u001b[43mrl\u001b[49m\u001b[43m.\u001b[49m\u001b[43mindexer\u001b[49m\u001b[43m]\u001b[49m = arr\n\u001b[32m   1754\u001b[39m     itemmask[rl.indexer] = \u001b[32m1\u001b[39m\n\u001b[32m   1756\u001b[39m \u001b[38;5;28;01mif\u001b[39;00m \u001b[38;5;129;01mnot\u001b[39;00m itemmask.all():\n",
      "\u001b[31mValueError\u001b[39m: could not convert string to float: 'CA-2016-152156'"
     ]
    }
   ],
   "source": [
    "correlation_matrix = df.corr()\n",
    "correlation_matrix['Profit'].sort_values(ascending=False)"
   ]
  },
  {
   "cell_type": "code",
   "execution_count": 31,
   "metadata": {},
   "outputs": [
    {
     "name": "stdout",
     "output_type": "stream",
     "text": [
      "   Row ID  Postal Code     Sales  Quantity  Discount    Profit  \\\n",
      "0       1        42420  261.9600         2      0.00   41.9136   \n",
      "1       2        42420  731.9400         3      0.00  219.5820   \n",
      "2       3        90036   14.6200         2      0.00    6.8714   \n",
      "3       4        33311  957.5775         5      0.45 -383.0310   \n",
      "4       5        33311   22.3680         2      0.20    2.5164   \n",
      "\n",
      "   Profit Margin%   Cost Per Price  SellPrice Per Unit  Cost Per Unit  \\\n",
      "0            16.00        110.0232              130.98         110.02   \n",
      "1            30.00        170.7860              243.98         170.79   \n",
      "2            47.00          3.8743                7.31           3.87   \n",
      "3           -40.00        268.1217              191.52         268.12   \n",
      "4            11.25          9.9258               11.18           9.93   \n",
      "\n",
      "   Profit Margin  Profit Margin   \n",
      "0         0.1600           16.00  \n",
      "1         0.3000           30.00  \n",
      "2         0.4700           47.00  \n",
      "3        -0.4000          -40.00  \n",
      "4         0.1125           11.25  \n"
     ]
    }
   ],
   "source": [
    "numeric_df = df.select_dtypes(include=['number'])\n",
    "print(numeric_df.head())"
   ]
  },
  {
   "cell_type": "code",
   "execution_count": null,
   "metadata": {},
   "outputs": [
    {
     "data": {
      "text/plain": [
       "Profit                1.000000\n",
       "Sales                 0.479064\n",
       "SellPrice Per Unit    0.468311\n",
       "Profit Margin         0.223732\n",
       "Profit Margin%        0.223732\n",
       "Profit Margin         0.223732\n",
       "Cost Per Price        0.129103\n",
       "Cost Per Unit         0.129103\n",
       "Quantity              0.066253\n",
       "Row ID                0.012497\n",
       "Postal Code          -0.029961\n",
       "Discount             -0.219487\n",
       "Name: Profit, dtype: float64"
      ]
     },
     "execution_count": 32,
     "metadata": {},
     "output_type": "execute_result"
    }
   ],
   "source": [
    "correlation_matrix = numeric_df.corr()\n",
    "correlation_matrix['Profit'].sort_values(ascending=False)"
   ]
  },
  {
   "cell_type": "code",
   "execution_count": 45,
   "metadata": {},
   "outputs": [
    {
     "data": {
      "text/plain": [
       "Index(['Row ID', 'Order ID', 'Order Date', 'Ship Date', 'Ship Mode',\n",
       "       'Customer ID', 'Customer Name', 'Segment', 'Country', 'City', 'State',\n",
       "       'Postal Code', 'Region', 'Product ID', 'Category', 'Sub-Category',\n",
       "       'Product Name', 'Sales', 'Quantity', 'Discount', 'Profit',\n",
       "       'SellPrice Per Unit', 'Cost Per Unit', 'Profit Margin '],\n",
       "      dtype='object')"
      ]
     },
     "execution_count": 45,
     "metadata": {},
     "output_type": "execute_result"
    }
   ],
   "source": [
    "df.columns"
   ]
  },
  {
   "cell_type": "code",
   "execution_count": 47,
   "metadata": {},
   "outputs": [
    {
     "data": {
      "application/vnd.microsoft.datawrangler.viewer.v0+json": {
       "columns": [
        {
         "name": "Product Name",
         "rawType": "object",
         "type": "string"
        },
        {
         "name": "Cost Per Unit",
         "rawType": "float64",
         "type": "float"
        },
        {
         "name": "SellPrice Per Unit",
         "rawType": "float64",
         "type": "float"
        },
        {
         "name": "Profit Margin ",
         "rawType": "float64",
         "type": "float"
        }
       ],
       "conversionMethod": "pd.DataFrame",
       "ref": "a493da8b-70ff-4e05-8c58-7c1faa7686b1",
       "rows": [
        [
         "Cisco TelePresence System EX90 Videoconferencing Unit",
         "4074.93",
         "3773.08",
         "-8.0"
        ],
        [
         "Cubify CubeX 3D Printer Triple Head Print",
         "2959.99",
         "2000.0",
         "-48.00000000000001"
        ],
        [
         "Cubify CubeX 3D Printer Double Head Print",
         "2219.99",
         "1399.9966666666667",
         "-95.27777777777779"
        ],
        [
         "Canon imageCLASS 2200 Advanced Copier",
         "1819.9900000000002",
         "3079.99",
         "38.46666666666667"
        ],
        [
         "High Speed Automatic Electric Letter Opener",
         "1572.03",
         "1528.36",
         "-4.0"
        ],
        [
         "Lexmark MX611dhe Monochrome Laser Printer",
         "1189.99",
         "1019.9925000000001",
         "-36.11111111111111"
        ],
        [
         "HP Designjet T520 Inkjet Large Format Printer - 24\" Color",
         "1189.99",
         "1458.3266666666666",
         "9.333333333333332"
        ],
        [
         "Canon imageCLASS MF7460 Monochrome Digital Laser Multifunction Copier",
         "998.0",
         "1995.99",
         "50.0"
        ],
        [
         "Okidata MB760 Printer",
         "993.29",
         "1119.2",
         "11.25"
        ],
        [
         "Ibico EPK-21 Electric Binding System",
         "963.89",
         "1259.9933333333333",
         "-23.25"
        ],
        [
         "3D Systems Cube Printer, 2nd Generation, Magenta",
         "961.99",
         "1299.99",
         "26.0"
        ],
        [
         "3D Systems Cube Printer, 2nd Generation, White",
         "935.99",
         "844.995",
         "-16.999999999999996"
        ],
        [
         "Martin Yale Chadless Opener Electric Letter Opener",
         "816.15",
         "749.5300000000001",
         "-10.249999999999998"
        ],
        [
         "GBC DocuBind P400 Electric Binding System",
         "734.93",
         "748.545",
         "-51.50000000000001"
        ],
        [
         "Riverside Palais Royal Lawyers Bookcase, Royale Cherry Finish",
         "678.35",
         "674.83",
         "-6.214705882352941"
        ],
        [
         "Fellowes PB500 Electric Punch Plastic Comb Binding Machine with Manual Bind",
         "635.5",
         "965.952",
         "5.0"
        ],
        [
         "Zebra ZM400 Thermal Label Printer",
         "603.69",
         "1160.95",
         "48.0"
        ],
        [
         "Bady BDG101FRU Card Printer",
         "567.99",
         "639.99",
         "8.291666666666668"
        ],
        [
         "HON 5400 Series Task Chairs for Big and Tall",
         "560.78",
         "560.7837499999999",
         "-1.4682539682539681"
        ],
        [
         "Tennsco 16-Compartment Lockers with Coat Rack",
         "492.4",
         "570.142",
         "12.6"
        ],
        [
         "GBC DocuBind TL300 Electric Binding System",
         "475.4",
         "627.8936363636363",
         "-8.40909090909091"
        ],
        [
         "Apple iPhone 5",
         "474.37999999999994",
         "519.8633333333333",
         "4.694444444444444"
        ],
        [
         "Chromcraft Bull-Nose Wood Oval Conference Tables & Bases",
         "473.84",
         "396.706",
         "-24.7"
        ],
        [
         "Okidata C610n Printer",
         "460.79",
         "389.4",
         "-21.714285714285715"
        ],
        [
         "Chromcraft Bull-Nose Wood 48\" x 96\" Rectangular Conference Tables",
         "446.29",
         "367.32166666666666",
         "-27.28571428571429"
        ],
        [
         "Samsung Galaxy S4",
         "438.18999999999994",
         "500.7900000000001",
         "10.166666666666668"
        ],
        [
         "ClearOne CHATAttach 160 - speaker phone",
         "433.99",
         "495.99",
         "9.583333333333336"
        ],
        [
         "Xiaomi Mi3",
         "421.79",
         "569.99",
         "25.999999999999996"
        ],
        [
         "Balt Solid Wood Round Tables",
         "406.31",
         "357.19",
         "-21.333333333333332"
        ],
        [
         "DMI Eclipse Executive Suite Bookcases",
         "405.79",
         "409.12999999999994",
         "0.7352941176470589"
        ],
        [
         "Global Adaptabilites Bookcase, Cherry/Storm Gray Finish",
         "405.12",
         "430.98",
         "6.000000000000001"
        ],
        [
         "Apple iPhone 5S",
         "398.99",
         "455.99",
         "9.583333333333336"
        ],
        [
         "Xerox WorkCentre 6505DN Laser Multifunction Printer",
         "395.99",
         "359.99",
         "-10.0"
        ],
        [
         "Bretford Just In Time Height-Adjustable Multi-Task Work Tables",
         "388.18",
         "323.485",
         "-27.875"
        ],
        [
         "Canon Imageclass D680 Copier / Fax",
         "384.99",
         "559.99",
         "29.416666666666664"
        ],
        [
         "GBC Ibimaster 500 Manual ProClick Binding System",
         "380.49",
         "363.5766666666666",
         "-39.81481481481481"
        ],
        [
         "Zebra GX420t Direct Thermal/Thermal Transfer Printer",
         "376.97",
         "371.6666666666667",
         "-6.499999999999997"
        ],
        [
         "Global Troy Executive Leather Low-Back Tilter",
         "375.7377777777778",
         "400.7811111111111",
         "5.919312169312169"
        ],
        [
         "LG G2",
         "374.99",
         "299.99",
         "-25.0"
        ],
        [
         "Canon PC1060 Personal Laser Copier",
         "370.99",
         "594.99",
         "37.0625"
        ],
        [
         "Samsung Galaxy S4 Active",
         "369.99",
         "499.99",
         "26.0"
        ],
        [
         "Canon PC1080F Personal Copier",
         "365.99",
         "569.99",
         "35.1875"
        ],
        [
         "Okidata MB491 Multifunction Printer",
         "364.27",
         "274.45",
         "-67.29166666666667"
        ],
        [
         "Cisco CP-7937G Unified IP Conference Station Phone",
         "361.76",
         "347.85",
         "-3.9999999999999996"
        ],
        [
         "Ativa V4110MDD Micro-Cut Shredder",
         "356.99",
         "699.99",
         "49.0"
        ],
        [
         "Tennsco Single-Tier Lockers",
         "356.57",
         "347.18874999999997",
         "-3.9062499999999987"
        ],
        [
         "Bush Advantage Collection Racetrack Conference Table",
         "347.85",
         "275.73857142857145",
         "-31.74768089053803"
        ],
        [
         "Hewlett-Packard Desktjet 6988DT Refurbished Printer",
         "347.26",
         "680.9",
         "49.0"
        ],
        [
         "Samsung Galaxy S4 Mini",
         "333.69",
         "413.59",
         "18.349999999999998"
        ],
        [
         "Samsung Galaxy Note 2",
         "331.19",
         "321.99",
         "-5.0"
        ]
       ],
       "shape": {
        "columns": 3,
        "rows": 1850
       }
      },
      "text/html": [
       "<div>\n",
       "<style scoped>\n",
       "    .dataframe tbody tr th:only-of-type {\n",
       "        vertical-align: middle;\n",
       "    }\n",
       "\n",
       "    .dataframe tbody tr th {\n",
       "        vertical-align: top;\n",
       "    }\n",
       "\n",
       "    .dataframe thead th {\n",
       "        text-align: right;\n",
       "    }\n",
       "</style>\n",
       "<table border=\"1\" class=\"dataframe\">\n",
       "  <thead>\n",
       "    <tr style=\"text-align: right;\">\n",
       "      <th></th>\n",
       "      <th>Cost Per Unit</th>\n",
       "      <th>SellPrice Per Unit</th>\n",
       "      <th>Profit Margin</th>\n",
       "    </tr>\n",
       "    <tr>\n",
       "      <th>Product Name</th>\n",
       "      <th></th>\n",
       "      <th></th>\n",
       "      <th></th>\n",
       "    </tr>\n",
       "  </thead>\n",
       "  <tbody>\n",
       "    <tr>\n",
       "      <th>Cisco TelePresence System EX90 Videoconferencing Unit</th>\n",
       "      <td>4074.93</td>\n",
       "      <td>3773.080000</td>\n",
       "      <td>-8.000000</td>\n",
       "    </tr>\n",
       "    <tr>\n",
       "      <th>Cubify CubeX 3D Printer Triple Head Print</th>\n",
       "      <td>2959.99</td>\n",
       "      <td>2000.000000</td>\n",
       "      <td>-48.000000</td>\n",
       "    </tr>\n",
       "    <tr>\n",
       "      <th>Cubify CubeX 3D Printer Double Head Print</th>\n",
       "      <td>2219.99</td>\n",
       "      <td>1399.996667</td>\n",
       "      <td>-95.277778</td>\n",
       "    </tr>\n",
       "    <tr>\n",
       "      <th>Canon imageCLASS 2200 Advanced Copier</th>\n",
       "      <td>1819.99</td>\n",
       "      <td>3079.990000</td>\n",
       "      <td>38.466667</td>\n",
       "    </tr>\n",
       "    <tr>\n",
       "      <th>High Speed Automatic Electric Letter Opener</th>\n",
       "      <td>1572.03</td>\n",
       "      <td>1528.360000</td>\n",
       "      <td>-4.000000</td>\n",
       "    </tr>\n",
       "    <tr>\n",
       "      <th>...</th>\n",
       "      <td>...</td>\n",
       "      <td>...</td>\n",
       "      <td>...</td>\n",
       "    </tr>\n",
       "    <tr>\n",
       "      <th>Binder Clips by OIC</th>\n",
       "      <td>0.77</td>\n",
       "      <td>1.308571</td>\n",
       "      <td>40.571429</td>\n",
       "    </tr>\n",
       "    <tr>\n",
       "      <th>OIC Binder Clips, Mini, 1/4\" Capacity, Black</th>\n",
       "      <td>0.66</td>\n",
       "      <td>1.190000</td>\n",
       "      <td>44.350000</td>\n",
       "    </tr>\n",
       "    <tr>\n",
       "      <th>OIC Thumb-Tacks</th>\n",
       "      <td>0.60</td>\n",
       "      <td>0.986667</td>\n",
       "      <td>38.166667</td>\n",
       "    </tr>\n",
       "    <tr>\n",
       "      <th>Maxell 4.7GB DVD-R 5/Pack</th>\n",
       "      <td>0.55</td>\n",
       "      <td>0.910000</td>\n",
       "      <td>38.400000</td>\n",
       "    </tr>\n",
       "    <tr>\n",
       "      <th>Maxell 4.7GB DVD+R 5/Pack</th>\n",
       "      <td>0.54</td>\n",
       "      <td>0.910000</td>\n",
       "      <td>39.500000</td>\n",
       "    </tr>\n",
       "  </tbody>\n",
       "</table>\n",
       "<p>1850 rows × 3 columns</p>\n",
       "</div>"
      ],
      "text/plain": [
       "                                                    Cost Per Unit  \\\n",
       "Product Name                                                        \n",
       "Cisco TelePresence System EX90 Videoconferencin...        4074.93   \n",
       "Cubify CubeX 3D Printer Triple Head Print                 2959.99   \n",
       "Cubify CubeX 3D Printer Double Head Print                 2219.99   \n",
       "Canon imageCLASS 2200 Advanced Copier                     1819.99   \n",
       "High Speed Automatic Electric Letter Opener               1572.03   \n",
       "...                                                           ...   \n",
       "Binder Clips by OIC                                          0.77   \n",
       "OIC Binder Clips, Mini, 1/4\" Capacity, Black                 0.66   \n",
       "OIC Thumb-Tacks                                              0.60   \n",
       "Maxell 4.7GB DVD-R 5/Pack                                    0.55   \n",
       "Maxell 4.7GB DVD+R 5/Pack                                    0.54   \n",
       "\n",
       "                                                    SellPrice Per Unit  \\\n",
       "Product Name                                                             \n",
       "Cisco TelePresence System EX90 Videoconferencin...         3773.080000   \n",
       "Cubify CubeX 3D Printer Triple Head Print                  2000.000000   \n",
       "Cubify CubeX 3D Printer Double Head Print                  1399.996667   \n",
       "Canon imageCLASS 2200 Advanced Copier                      3079.990000   \n",
       "High Speed Automatic Electric Letter Opener                1528.360000   \n",
       "...                                                                ...   \n",
       "Binder Clips by OIC                                           1.308571   \n",
       "OIC Binder Clips, Mini, 1/4\" Capacity, Black                  1.190000   \n",
       "OIC Thumb-Tacks                                               0.986667   \n",
       "Maxell 4.7GB DVD-R 5/Pack                                     0.910000   \n",
       "Maxell 4.7GB DVD+R 5/Pack                                     0.910000   \n",
       "\n",
       "                                                    Profit Margin   \n",
       "Product Name                                                        \n",
       "Cisco TelePresence System EX90 Videoconferencin...       -8.000000  \n",
       "Cubify CubeX 3D Printer Triple Head Print               -48.000000  \n",
       "Cubify CubeX 3D Printer Double Head Print               -95.277778  \n",
       "Canon imageCLASS 2200 Advanced Copier                    38.466667  \n",
       "High Speed Automatic Electric Letter Opener              -4.000000  \n",
       "...                                                            ...  \n",
       "Binder Clips by OIC                                      40.571429  \n",
       "OIC Binder Clips, Mini, 1/4\" Capacity, Black             44.350000  \n",
       "OIC Thumb-Tacks                                          38.166667  \n",
       "Maxell 4.7GB DVD-R 5/Pack                                38.400000  \n",
       "Maxell 4.7GB DVD+R 5/Pack                                39.500000  \n",
       "\n",
       "[1850 rows x 3 columns]"
      ]
     },
     "execution_count": 47,
     "metadata": {},
     "output_type": "execute_result"
    }
   ],
   "source": [
    "df.groupby('Product Name')[['Cost Per Unit', 'SellPrice Per Unit', 'Profit Margin ']].mean().sort_values(by='Cost Per Unit', ascending=False)"
   ]
  },
  {
   "cell_type": "code",
   "execution_count": null,
   "metadata": {},
   "outputs": [],
   "source": []
  }
 ],
 "metadata": {
  "kernelspec": {
   "display_name": "venv",
   "language": "python",
   "name": "python3"
  },
  "language_info": {
   "codemirror_mode": {
    "name": "ipython",
    "version": 3
   },
   "file_extension": ".py",
   "mimetype": "text/x-python",
   "name": "python",
   "nbconvert_exporter": "python",
   "pygments_lexer": "ipython3",
   "version": "3.12.6"
  }
 },
 "nbformat": 4,
 "nbformat_minor": 2
}
